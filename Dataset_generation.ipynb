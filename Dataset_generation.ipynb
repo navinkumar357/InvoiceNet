{
 "cells": [
  {
   "cell_type": "code",
   "execution_count": 5,
   "metadata": {},
   "outputs": [
    {
     "name": "stdout",
     "output_type": "stream",
     "text": [
      "2.0.0\n"
     ]
    }
   ],
   "source": [
    "import tensorflow.keras as keras\n",
    "\n",
    "import tensorflow as tf\n",
    "\n",
    "print(tf.__version__)"
   ]
  },
  {
   "cell_type": "code",
   "execution_count": 6,
   "metadata": {},
   "outputs": [],
   "source": [
    "mnist = tf.keras.datasets.mnist\n",
    "(x_train, y_train),(x_test, y_test) = mnist.load_data()"
   ]
  },
  {
   "cell_type": "code",
   "execution_count": 7,
   "metadata": {},
   "outputs": [],
   "source": [
    "import cv2\n",
    "import matplotlib.pyplot as plt\n",
    "from PIL import Image\n",
    "import PIL.ImageOps\n",
    "import numpy as np"
   ]
  },
  {
   "cell_type": "markdown",
   "metadata": {},
   "source": [
    "Resizing the Image to (30,15)"
   ]
  },
  {
   "cell_type": "code",
   "execution_count": 8,
   "metadata": {},
   "outputs": [],
   "source": [
    "def resize(mnist):\n",
    "     train_data = []\n",
    "     for img in x_train:\n",
    "            resized_img = cv2.resize(img, (15, 17))\n",
    "            train_data.append(resized_img)\n",
    "     return train_data"
   ]
  },
  {
   "cell_type": "code",
   "execution_count": 9,
   "metadata": {},
   "outputs": [],
   "source": [
    "resized_mnist = resize(mnist)"
   ]
  },
  {
   "cell_type": "code",
   "execution_count": 10,
   "metadata": {},
   "outputs": [
    {
     "data": {
      "image/png": "[encoded data removed]",
      "text/plain": [
       "<Figure size 432x288 with 1 Axes>"
      ]
     },
     "metadata": {
      "needs_background": "light"
     },
     "output_type": "display_data"
    }
   ],
   "source": [
    "#Rescale to 0-255 and convert to uint8\n",
    "rescaled = (255.0 / resized_mnist[55].max() * (resized_mnist[55] - resized_mnist[55].min())).astype(np.uint8)\n",
    "\n",
    "im = Image.fromarray(rescaled)\n",
    "\n",
    "plt.imshow(im, cmap = plt.cm.binary)\n",
    "# ax.set_xticks([])\n",
    "# ax.set_yticks([])\n",
    "plt.show()\n",
    "\n",
    "im.save('t1.png')"
   ]
  },
  {
   "cell_type": "markdown",
   "metadata": {},
   "source": [
    "Inverting the colour"
   ]
  },
  {
   "cell_type": "code",
   "execution_count": 11,
   "metadata": {},
   "outputs": [
    {
     "data": {
      "text/plain": [
       "(-0.5, 14.5, 16.5, -0.5)"
      ]
     },
     "execution_count": 11,
     "metadata": {},
     "output_type": "execute_result"
    },
    {
     "data": {
      "image/png": "[encoded data removed]",
      "text/plain": [
       "<Figure size 432x288 with 1 Axes>"
      ]
     },
     "metadata": {
      "needs_background": "light"
     },
     "output_type": "display_data"
    }
   ],
   "source": [
    "image1 = Image.open('t1.png')\n",
    "# im1 = image1.convert('RGB')\n",
    "inverted_image = PIL.ImageOps.invert(image1)\n",
    "inverted_image.save('t1_inverted.png')\n",
    "\n",
    "plt.imshow(inverted_image, cmap = plt.cm.binary)\n",
    "plt.axis('off')"
   ]
  },
  {
   "cell_type": "markdown",
   "metadata": {},
   "source": [
    "Generating a four digit random numbers:"
   ]
  },
  {
   "cell_type": "code",
   "execution_count": 12,
   "metadata": {},
   "outputs": [],
   "source": [
    "import random\n",
    "import math\n",
    "import os"
   ]
  },
  {
   "cell_type": "code",
   "execution_count": 13,
   "metadata": {},
   "outputs": [
    {
     "name": "stdout",
     "output_type": "stream",
     "text": [
      "temp/User/Desktop/file0.txt\n",
      "temp/User/Desktop/file1.txt\n",
      "temp/User/Desktop/file2.txt\n"
     ]
    }
   ],
   "source": [
    "temp_path = \"temp/\"\n",
    "for i in range(0,3):\n",
    "    print(os.path.join(temp_path, \"User/Desktop/\", \"file{0}.txt\".format(i)))"
   ]
  },
  {
   "cell_type": "code",
   "execution_count": 15,
   "metadata": {},
   "outputs": [
    {
     "name": "stdout",
     "output_type": "stream",
     "text": [
      "0 random no generated = 3\n",
      "0. m = 0 and n = 3\n",
      "1 random no generated = 62\n",
      "1. m = 6 and n = 2\n",
      "2 random no generated = 90\n",
      "2. m = 9 and n = 0\n",
      "3 random no generated = 50\n",
      "3. m = 5 and n = 0\n",
      "over\n"
     ]
    }
   ],
   "source": [
    "for l in range(0,4):\n",
    "    \n",
    "    rand = random.randint(0,100)\n",
    "    print(\"{} random no generated = {}\".format(l,rand))\n",
    "\n",
    "    n = rand % 10\n",
    "    m = math.floor(rand / 10)\n",
    "    print(\"{}. m = {} and n = {}\". format(l,m,n))\n",
    "\n",
    "    for i in range(0,21):\n",
    "        if y_train[i] == m:\n",
    "            img_m = resized_mnist[i]\n",
    "            \n",
    "    \n",
    "        if y_train[i] == n:  \n",
    "            img_n = resized_mnist[i]\n",
    "              \n",
    "    final = cv2.hconcat([img_m, img_n])\n",
    "    # plt.imshow(final, cmap = plt.cm.binary)\n",
    "    # plt.show()\n",
    "    \n",
    "    # Saving the final of each iteration:\n",
    "    inv = (255.0 / final.max() * (final - final.min())).astype(np.uint8)\n",
    "    im = Image.fromarray(inv)\n",
    "    # plt.imshow(im, cmap = plt.cm.binary)\n",
    "    # plt.show()\n",
    "    im.save(os.path.join(temp_path, \"image/image{0}.png\".format(l+1)))\n",
    "    \n",
    "    #Inverting the saved final:\n",
    "    inv_img = Image.open(os.path.join(temp_path, \"image/image{0}.png\".format(l+1)))\n",
    "    # im1 = image1.convert('RGB')\n",
    "    inverted_image = PIL.ImageOps.invert(inv_img)\n",
    "    inverted_image.save(os.path.join(temp_path, \"inv/inv_image{0}.png\".format(l+1)))\n",
    "    #plt.imshow(inverted_image, cmap = plt.cm.binary)\n",
    "    #plt.axis('off')\n",
    "    \n",
    "    \n",
    "print(\"over\")"
   ]
  },
  {
   "cell_type": "markdown",
   "metadata": {},
   "source": [
    "Loading the base image:"
   ]
  },
  {
   "cell_type": "code",
   "execution_count": 16,
   "metadata": {},
   "outputs": [
    {
     "data": {
      "text/plain": [
       "(-0.5, 316.5, 135.5, -0.5)"
      ]
     },
     "execution_count": 16,
     "metadata": {},
     "output_type": "execute_result"
    },
    {
     "data": {
      "image/png": "[encoded data removed]",
      "text/plain": [
       "<Figure size 432x288 with 1 Axes>"
      ]
     },
     "metadata": {
      "needs_background": "light"
     },
     "output_type": "display_data"
    }
   ],
   "source": [
    "base = Image.open(\"base.jpg\")\n",
    "plt.imshow(base, cmap = plt.cm.binary)\n",
    "plt.axis('off')"
   ]
  },
  {
   "cell_type": "code",
   "execution_count": 18,
   "metadata": {},
   "outputs": [
    {
     "data": {
      "text/plain": [
       "(-0.5, 316.5, 135.5, -0.5)"
      ]
     },
     "execution_count": 18,
     "metadata": {},
     "output_type": "execute_result"
    },
    {
     "data": {
      "image/png": "[encoded data removed]",
      "text/plain": [
       "<Figure size 432x288 with 1 Axes>"
      ]
     },
     "metadata": {
      "needs_background": "light"
     },
     "output_type": "display_data"
    }
   ],
   "source": [
    "insert1 = Image.open(os.path.join(temp_path, \"inv/inv_image{0}.png\".format(1)))\n",
    "insert2 = Image.open(os.path.join(temp_path, \"inv/inv_image{0}.png\".format(2)))\n",
    "insert3 = Image.open(os.path.join(temp_path, \"inv/inv_image{0}.png\".format(3)))\n",
    "insert4 = Image.open(os.path.join(temp_path, \"inv/inv_image{0}.png\".format(4)))\n",
    "\n",
    "area1 = (130,7)\n",
    "area2 = (130,40)\n",
    "area3 = (130,73)\n",
    "area4 = (130,106)\n",
    "\n",
    "base.paste(insert1, area1)\n",
    "base.paste(insert2, area2)\n",
    "base.paste(insert3, area3)\n",
    "base.paste(insert4, area4)\n",
    "plt.imshow(base, cmap = plt.cm.binary)\n",
    "plt.axis('off')"
   ]
  },
  {
   "cell_type": "code",
   "execution_count": 20,
   "metadata": {},
   "outputs": [
    {
     "name": "stdout",
     "output_type": "stream",
     "text": [
      "0 random no generated = 1\n",
      "0. m = 0 and n = 1\n",
      "1 random no generated = 57\n",
      "1. m = 5 and n = 7\n",
      "2 random no generated = 4\n",
      "2. m = 0 and n = 4\n",
      "3 random no generated = 66\n",
      "3. m = 6 and n = 6\n",
      "Created 1 data:\n"
     ]
    },
    {
     "data": {
      "image/png": "[encoded data removed]",
      "text/plain": [
       "<Figure size 432x288 with 1 Axes>"
      ]
     },
     "metadata": {
      "needs_background": "light"
     },
     "output_type": "display_data"
    }
   ],
   "source": [
    "for l in range(0,4):\n",
    "    \n",
    "    rand = random.randint(0,100)\n",
    "    print(\"{} random no generated = {}\".format(l,rand))\n",
    "\n",
    "    n = rand % 10\n",
    "    m = math.floor(rand / 10)\n",
    "    print(\"{}. m = {} and n = {}\". format(l,m,n))\n",
    "\n",
    "    for i in range(0,21):\n",
    "        if y_train[i] == m:\n",
    "            img_m = resized_mnist[i]\n",
    "            \n",
    "    \n",
    "        if y_train[i] == n:  \n",
    "            img_n = resized_mnist[i]\n",
    "              \n",
    "    final = cv2.hconcat([img_m, img_n])\n",
    "    # plt.imshow(final, cmap = plt.cm.binary)\n",
    "    # plt.show()\n",
    "    \n",
    "    # Saving the final of each iteration:\n",
    "    inv = (255.0 / final.max() * (final - final.min())).astype(np.uint8)\n",
    "    im = Image.fromarray(inv)\n",
    "    # plt.imshow(im, cmap = plt.cm.binary)\n",
    "    # plt.show()\n",
    "    im.save(os.path.join(temp_path, \"image/image{0}.png\".format(l+1)))\n",
    "    \n",
    "    #Inverting the saved final:\n",
    "    inv_img = Image.open(os.path.join(temp_path, \"image/image{0}.png\".format(l+1)))\n",
    "    # im1 = image1.convert('RGB')\n",
    "    inverted_image = PIL.ImageOps.invert(inv_img)\n",
    "    inverted_image.save(os.path.join(temp_path, \"inv/inv_image{0}.png\".format(l+1)))\n",
    "    #plt.imshow(inverted_image, cmap = plt.cm.binary)\n",
    "    #plt.axis('off')\n",
    "    \n",
    "    \n",
    "insert1 = Image.open(os.path.join(temp_path, \"inv/inv_image{0}.png\".format(1)))\n",
    "insert2 = Image.open(os.path.join(temp_path, \"inv/inv_image{0}.png\".format(2)))\n",
    "insert3 = Image.open(os.path.join(temp_path, \"inv/inv_image{0}.png\".format(3)))\n",
    "insert4 = Image.open(os.path.join(temp_path, \"inv/inv_image{0}.png\".format(4)))\n",
    "\n",
    "area1 = (130,7)\n",
    "area2 = (130,40)\n",
    "area3 = (130,73)\n",
    "area4 = (130,106)\n",
    "\n",
    "base.paste(insert1, area1)\n",
    "base.paste(insert2, area2)\n",
    "base.paste(insert3, area3)\n",
    "base.paste(insert4, area4)\n",
    "plt.imshow(base, cmap = plt.cm.binary)\n",
    "plt.axis('off')\n",
    "base.save(os.path.join(\"data/png/base{0}.png\".format(1)))\n",
    "\n",
    "#Converting to pdf:\n",
    "png = Image.open(os.path.join(\"data/png/base{0}.png\".format(1)))\n",
    "png = png.convert(\"RGB\")\n",
    "png.save(os.path.join(\"data/pdf/base{0}.pdf\".format(1)),\"PDF\", resolution = 100.0)\n",
    "\n",
    "print(\"Created 1 data:\")"
   ]
  },
  {
   "cell_type": "markdown",
   "metadata": {},
   "source": [
    "Generating a bigger dataset:"
   ]
  },
  {
   "cell_type": "code",
   "execution_count": 22,
   "metadata": {},
   "outputs": [
    {
     "name": "stdout",
     "output_type": "stream",
     "text": [
      "0 random no generated = 15\n",
      "0. m = 1 and n = 5\n",
      "1 random no generated = 51\n",
      "1. m = 5 and n = 1\n",
      "2 random no generated = 72\n",
      "2. m = 7 and n = 2\n",
      "3 random no generated = 92\n",
      "3. m = 9 and n = 2\n",
      "------------------------------------------------------------------\n",
      "\n",
      "0 random no generated = 64\n",
      "0. m = 6 and n = 4\n",
      "1 random no generated = 2\n",
      "1. m = 0 and n = 2\n",
      "2 random no generated = 24\n",
      "2. m = 2 and n = 4\n",
      "3 random no generated = 55\n",
      "3. m = 5 and n = 5\n",
      "------------------------------------------------------------------\n",
      "\n",
      "0 random no generated = 8\n",
      "0. m = 0 and n = 8\n",
      "1 random no generated = 51\n",
      "1. m = 5 and n = 1\n",
      "2 random no generated = 74\n",
      "2. m = 7 and n = 4\n",
      "3 random no generated = 91\n",
      "3. m = 9 and n = 1\n",
      "------------------------------------------------------------------\n",
      "\n",
      "0 random no generated = 30\n",
      "0. m = 3 and n = 0\n",
      "1 random no generated = 34\n",
      "1. m = 3 and n = 4\n",
      "2 random no generated = 80\n",
      "2. m = 8 and n = 0\n",
      "3 random no generated = 81\n",
      "3. m = 8 and n = 1\n",
      "------------------------------------------------------------------\n",
      "\n",
      "0 random no generated = 41\n",
      "0. m = 4 and n = 1\n",
      "1 random no generated = 50\n",
      "1. m = 5 and n = 0\n",
      "2 random no generated = 70\n",
      "2. m = 7 and n = 0\n",
      "3 random no generated = 1\n",
      "3. m = 0 and n = 1\n",
      "------------------------------------------------------------------\n",
      "\n",
      "Created 5 data:\n"
     ]
    }
   ],
   "source": [
    "for a in range(0,5):\n",
    "\n",
    "    for l in range(0,4):\n",
    "\n",
    "        rand = random.randint(0,100)\n",
    "        print(\"{} random no generated = {}\".format(l,rand))\n",
    "\n",
    "        n = rand % 10\n",
    "        m = math.floor(rand / 10)\n",
    "        print(\"{}. m = {} and n = {}\". format(l,m,n))\n",
    "\n",
    "        for i in range(0,21):\n",
    "            if y_train[i] == m:\n",
    "                img_m = resized_mnist[i]\n",
    "\n",
    "\n",
    "            if y_train[i] == n:  \n",
    "                img_n = resized_mnist[i]\n",
    "\n",
    "        final = cv2.hconcat([img_m, img_n])\n",
    "        # plt.imshow(final, cmap = plt.cm.binary)\n",
    "        # plt.show()\n",
    "\n",
    "        # Saving the final of each iteration:\n",
    "        inv = (255.0 / final.max() * (final - final.min())).astype(np.uint8)\n",
    "        im = Image.fromarray(inv)\n",
    "        # plt.imshow(im, cmap = plt.cm.binary)\n",
    "        # plt.show()\n",
    "        im.save(os.path.join(temp_path, \"image/image{0}.png\".format(l+1)))\n",
    "\n",
    "        #Inverting the saved final:\n",
    "        inv_img = Image.open(os.path.join(temp_path, \"image/image{0}.png\".format(l+1)))\n",
    "        # im1 = image1.convert('RGB')\n",
    "        inverted_image = PIL.ImageOps.invert(inv_img)\n",
    "        inverted_image.save(os.path.join(temp_path, \"inv/inv_image{0}.png\".format(l+1)))\n",
    "        #plt.imshow(inverted_image, cmap = plt.cm.binary)\n",
    "        #plt.axis('off')\n",
    "        \n",
    "    print(\"------------------------------------------------------------------\\n\")\n",
    "    insert1 = Image.open(os.path.join(temp_path, \"inv/inv_image{0}.png\".format(1)))\n",
    "    insert2 = Image.open(os.path.join(temp_path, \"inv/inv_image{0}.png\".format(2)))\n",
    "    insert3 = Image.open(os.path.join(temp_path, \"inv/inv_image{0}.png\".format(3)))\n",
    "    insert4 = Image.open(os.path.join(temp_path, \"inv/inv_image{0}.png\".format(4)))\n",
    "\n",
    "    area1 = (130,7)\n",
    "    area2 = (130,40)\n",
    "    area3 = (130,73)\n",
    "    area4 = (130,106)\n",
    "\n",
    "    base.paste(insert1, area1)\n",
    "    base.paste(insert2, area2)\n",
    "    base.paste(insert3, area3)\n",
    "    base.paste(insert4, area4)\n",
    "    \n",
    "    # plt.imshow(base, cmap = plt.cm.binary)\n",
    "    # plt.axis('off')\n",
    "    base.save(os.path.join(\"data/png/base{0}.png\".format(a)))\n",
    "\n",
    "    #Converting to pdf:\n",
    "    png = Image.open(os.path.join(\"data/png/base{0}.png\".format(a)))\n",
    "    png = png.convert(\"RGB\")\n",
    "    png.save(os.path.join(\"data/pdf/base{0}.pdf\".format(a)),\"PDF\", resolution = 100.0)\n",
    "\n",
    "\n",
    "print(\"Created 5 data:\")"
   ]
  },
  {
   "cell_type": "markdown",
   "metadata": {},
   "source": [
    "Testing if JSON works: \n",
    "    -It works."
   ]
  },
  {
   "cell_type": "code",
   "execution_count": 23,
   "metadata": {},
   "outputs": [],
   "source": [
    "import json"
   ]
  },
  {
   "cell_type": "code",
   "execution_count": 27,
   "metadata": {},
   "outputs": [],
   "source": [
    "def writeToJSONFile(path, fileName, data):\n",
    "    filePathNameWExt = './' + path + '/' + fileName + '.json'\n",
    "    with open(filePathNameWExt, 'w') as fp:\n",
    "        json.dump(data, fp)\n",
    "\n",
    "\n",
    "\n",
    "# './' represents the current directory so the directory save-file.py is in\n",
    "# 'test' is my file name"
   ]
  },
  {
   "cell_type": "code",
   "execution_count": 28,
   "metadata": {},
   "outputs": [],
   "source": [
    "from array import *\n",
    "js = array('i',[1,2,3,4])"
   ]
  },
  {
   "cell_type": "code",
   "execution_count": 29,
   "metadata": {},
   "outputs": [],
   "source": [
    "test = ['a','b','g','d']"
   ]
  },
  {
   "cell_type": "code",
   "execution_count": 32,
   "metadata": {},
   "outputs": [
    {
     "name": "stdout",
     "output_type": "stream",
     "text": [
      "0 random no generated = 74\n",
      "0. m = 7 and n = 4\n",
      "1 random no generated = 7\n",
      "1. m = 0 and n = 7\n",
      "2 random no generated = 5\n",
      "2. m = 0 and n = 5\n",
      "3 random no generated = 44\n",
      "3. m = 4 and n = 4\n",
      "Array = 74\n",
      "\n",
      "Array = 07\n",
      "\n",
      "Array = 05\n",
      "\n",
      "Array = 44\n",
      "\n",
      "------------------------------------------------------------------\n",
      "\n",
      "0 random no generated = 20\n",
      "0. m = 2 and n = 0\n",
      "1 random no generated = 16\n",
      "1. m = 1 and n = 6\n",
      "2 random no generated = 33\n",
      "2. m = 3 and n = 3\n",
      "3 random no generated = 87\n",
      "3. m = 8 and n = 7\n",
      "Array = 20\n",
      "\n",
      "Array = 16\n",
      "\n",
      "Array = 33\n",
      "\n",
      "Array = 87\n",
      "\n",
      "------------------------------------------------------------------\n",
      "\n",
      "0 random no generated = 96\n",
      "0. m = 9 and n = 6\n",
      "1 random no generated = 30\n",
      "1. m = 3 and n = 0\n",
      "2 random no generated = 59\n",
      "2. m = 5 and n = 9\n",
      "3 random no generated = 42\n",
      "3. m = 4 and n = 2\n",
      "Array = 96\n",
      "\n",
      "Array = 30\n",
      "\n",
      "Array = 59\n",
      "\n",
      "Array = 42\n",
      "\n",
      "------------------------------------------------------------------\n",
      "\n",
      "0 random no generated = 15\n",
      "0. m = 1 and n = 5\n",
      "1 random no generated = 82\n",
      "1. m = 8 and n = 2\n",
      "2 random no generated = 29\n",
      "2. m = 2 and n = 9\n",
      "3 random no generated = 53\n",
      "3. m = 5 and n = 3\n",
      "Array = 15\n",
      "\n",
      "Array = 82\n",
      "\n",
      "Array = 29\n",
      "\n",
      "Array = 53\n",
      "\n",
      "------------------------------------------------------------------\n",
      "\n",
      "0 random no generated = 82\n",
      "0. m = 8 and n = 2\n",
      "1 random no generated = 89\n",
      "1. m = 8 and n = 9\n",
      "2 random no generated = 0\n",
      "2. m = 0 and n = 0\n",
      "3 random no generated = 55\n",
      "3. m = 5 and n = 5\n",
      "Array = 82\n",
      "\n",
      "Array = 89\n",
      "\n",
      "Array = 00\n",
      "\n",
      "Array = 55\n",
      "\n",
      "------------------------------------------------------------------\n",
      "\n",
      "Created 5 data:\n"
     ]
    }
   ],
   "source": [
    "\n",
    "for a in range(0,5):\n",
    "\n",
    "    for l in range(0,4):\n",
    "\n",
    "        rand = random.randint(0,100)\n",
    "        print(\"{} random no generated = {}\".format(l,rand))\n",
    "\n",
    "        n = rand % 10\n",
    "        m = math.floor(rand / 10)\n",
    "        print(\"{}. m = {} and n = {}\". format(l,m,n))\n",
    "\n",
    "        for i in range(0,21):\n",
    "            if y_train[i] == m:\n",
    "                img_m = resized_mnist[i]\n",
    "\n",
    "            if y_train[i] == n:  \n",
    "                img_n = resized_mnist[i]\n",
    "        \n",
    "        # js is a list to fill in JSON details:\n",
    "        \n",
    "        js[l] = ((m*10)+n) \n",
    "        \n",
    "        temp = ((m*10)+n)\n",
    "        str_temp = str(temp)\n",
    "        if m<10:\n",
    "             test[l] = str_temp.zfill(2)\n",
    "        \n",
    "        final = cv2.hconcat([img_m, img_n])\n",
    "        # plt.imshow(final, cmap = plt.cm.binary)\n",
    "        # plt.show()\n",
    "\n",
    "        # Saving the final of each iteration:\n",
    "        inv = (255.0 / final.max() * (final - final.min())).astype(np.uint8)\n",
    "        im = Image.fromarray(inv)\n",
    "        # plt.imshow(im, cmap = plt.cm.binary)\n",
    "        # plt.show()\n",
    "        im.save(os.path.join(temp_path, \"image/image{0}.png\".format(l+1)))\n",
    "\n",
    "        #Inverting the saved final:\n",
    "        inv_img = Image.open(os.path.join(temp_path, \"image/image{0}.png\".format(l+1)))\n",
    "        # im1 = image1.convert('RGB')\n",
    "        inverted_image = PIL.ImageOps.invert(inv_img)\n",
    "        inverted_image.save(os.path.join(temp_path, \"inv/inv_image{0}.png\".format(l+1)))\n",
    "        #plt.imshow(inverted_image, cmap = plt.cm.binary)\n",
    "        #plt.axis('off')\n",
    "    \n",
    "    for arr in range(0,4):\n",
    "        print(\"Array = {}\\n\".format(test[arr]))    \n",
    "    \n",
    "    val = 0\n",
    "    path = 'data/pdf/'\n",
    "    filename = os.path.join(\"data{0}\".format(a+1))\n",
    "\n",
    "    data = {}\n",
    "    \n",
    "    data['Number'] = test[val]\n",
    "\n",
    "    data['Name'] = test[val+1]\n",
    "\n",
    "    data['T1'] = test[val+2]\n",
    "\n",
    "    data['T2'] = test[val+3]\n",
    "\n",
    "    writeToJSONFile(path,filename,data)\n",
    "\n",
    "        \n",
    "        \n",
    "    print(\"------------------------------------------------------------------\\n\")\n",
    "    insert1 = Image.open(os.path.join(temp_path, \"inv/inv_image{0}.png\".format(1)))\n",
    "    insert2 = Image.open(os.path.join(temp_path, \"inv/inv_image{0}.png\".format(2)))\n",
    "    insert3 = Image.open(os.path.join(temp_path, \"inv/inv_image{0}.png\".format(3)))\n",
    "    insert4 = Image.open(os.path.join(temp_path, \"inv/inv_image{0}.png\".format(4)))\n",
    "\n",
    "    area1 = (130,7)\n",
    "    area2 = (130,40)\n",
    "    area3 = (130,73)\n",
    "    area4 = (130,106)\n",
    "    \n",
    "    base.paste(insert1, area1)\n",
    "    base.paste(insert2, area2)\n",
    "    base.paste(insert3, area3)\n",
    "    base.paste(insert4, area4)\n",
    "    \n",
    "    # plt.imshow(base, cmap = plt.cm.binary)\n",
    "    # plt.axis('off')\n",
    "    base.save(os.path.join(\"data/png/data{0}.png\".format(a+1)))\n",
    "\n",
    "    #Converting to pdf:\n",
    "    png = Image.open(os.path.join(\"data/png/data{0}.png\".format(a+1)))\n",
    "    png = png.convert(\"RGB\")\n",
    "    png.save(os.path.join(\"data/pdf/data{0}.pdf\".format(a+1)),\"PDF\", resolution = 100.0)\n",
    "\n",
    "\n",
    "print(\"Created 5 data:\")"
   ]
  },
  {
   "cell_type": "markdown",
   "metadata": {},
   "source": [
    "Trying for 4 digit:"
   ]
  },
  {
   "cell_type": "code",
   "execution_count": 45,
   "metadata": {},
   "outputs": [],
   "source": [
    "temp0 = temp1= temp2= temp3 = ['a','f','d','r']"
   ]
  },
  {
   "cell_type": "code",
   "execution_count": 54,
   "metadata": {},
   "outputs": [
    {
     "name": "stdout",
     "output_type": "stream",
     "text": [
      "Created 5 data:\n"
     ]
    },
    {
     "data": {
      "image/png": "[encoded data removed]",
      "text/plain": [
       "<Figure size 432x288 with 1 Axes>"
      ]
     },
     "metadata": {
      "needs_background": "light"
     },
     "output_type": "display_data"
    }
   ],
   "source": [
    "for a in range(0,1000):\n",
    "\n",
    "    for l in range(0,4):\n",
    "\n",
    "        rand = random.randint(0,100)\n",
    "#         print(\"{} random no generated = {}\".format(l,rand))\n",
    "\n",
    "        n = rand % 10\n",
    "        m = math.floor(rand / 10)\n",
    "#         print(\"{}. m = {} and n = {}\". format(l,m,n))\n",
    "\n",
    "        for i in range(0,21):\n",
    "            if y_train[i] == m:\n",
    "                img_m = resized_mnist[i]\n",
    "\n",
    "            if y_train[i] == n:  \n",
    "                img_n = resized_mnist[i]\n",
    "        \n",
    "        # js is a list to fill in JSON details:\n",
    "        \n",
    "        js[l] = ((m*10)+n) \n",
    "        \n",
    "        temp = ((m*10)+n)\n",
    "        str_temp = str(temp)\n",
    "        if m<10:\n",
    "             test[l] = str_temp.zfill(2)\n",
    "        \n",
    "        final = cv2.hconcat([img_m, img_n])\n",
    "        # plt.imshow(final, cmap = plt.cm.binary)\n",
    "        # plt.show()\n",
    "\n",
    "        # Saving the final of each iteration:\n",
    "        inv = (255.0 / final.max() * (final - final.min())).astype(np.uint8)\n",
    "        im = Image.fromarray(inv)\n",
    "        # plt.imshow(im, cmap = plt.cm.binary)\n",
    "        # plt.show()\n",
    "        im.save(os.path.join(temp_path, \"image/image{0}.png\".format(l+1)))\n",
    "\n",
    "        #Inverting the saved final:\n",
    "        inv_img = Image.open(os.path.join(temp_path, \"image/image{0}.png\".format(l+1)))\n",
    "        # im1 = image1.convert('RGB')\n",
    "        inverted_image = PIL.ImageOps.invert(inv_img)\n",
    "        inverted_image.save(os.path.join(temp_path, \"inv/inv_image{0}.png\".format(l+1)))\n",
    "        #plt.imshow(inverted_image, cmap = plt.cm.binary)\n",
    "        #plt.axis('off')\n",
    "    \n",
    "#     for arr in range(0,4):\n",
    "#         print(\"Array = {}\\n\".format(test[arr]))    \n",
    "    \n",
    "    #modifying test to accomodate 4 digits.\n",
    "#     mod = 0\n",
    "    temp0 = test[0]\n",
    "    temp1 = test[1]\n",
    "    temp2 = test[2]\n",
    "    temp3 = test[3]\n",
    "    \n",
    "    test[0] = test[0]+temp2\n",
    "    test[1] = test[1]+temp0\n",
    "    test[2] = test[2]+temp3\n",
    "    test[3] = test[3]+temp1\n",
    "    \n",
    "#     print(test[0], test[1], test[2], test[3])\n",
    "    \n",
    "    val = 0\n",
    "    path = 'data/pdf/'\n",
    "    filename = os.path.join(\"data{0}\".format(a+1))\n",
    "\n",
    "    data = {}\n",
    "    \n",
    "    data['Number'] = test[val]\n",
    "\n",
    "    data['Name'] = test[val+1]\n",
    "\n",
    "    data['T1'] = test[val+2]\n",
    "\n",
    "    data['T2'] = test[val+3]\n",
    "\n",
    "    writeToJSONFile(path,filename,data)\n",
    "\n",
    "        \n",
    "        \n",
    "#     print(\"------------------------------------------------------------------\\n\")\n",
    "    insert1 = Image.open(os.path.join(temp_path, \"inv/inv_image{0}.png\".format(1)))\n",
    "    insert2 = Image.open(os.path.join(temp_path, \"inv/inv_image{0}.png\".format(2)))\n",
    "    insert3 = Image.open(os.path.join(temp_path, \"inv/inv_image{0}.png\".format(3)))\n",
    "    insert4 = Image.open(os.path.join(temp_path, \"inv/inv_image{0}.png\".format(4)))\n",
    "\n",
    "    area1 = (130,7)\n",
    "    area2 = (130,40)\n",
    "    area3 = (130,73)\n",
    "    area4 = (130,106)\n",
    "    \n",
    "    area11 = (160,7)\n",
    "    area22 = (160,40)\n",
    "    area33 = (160,73)\n",
    "    area44 = (160,106)\n",
    "    \n",
    "    base.paste(insert1, area1)\n",
    "    base.paste(insert2, area2)\n",
    "    base.paste(insert3, area3)\n",
    "    base.paste(insert4, area4)\n",
    "    base.paste(insert1, area22)\n",
    "    base.paste(insert2, area44)\n",
    "    base.paste(insert3, area11)\n",
    "    base.paste(insert4, area33)\n",
    "    \n",
    "    plt.imshow(base, cmap = plt.cm.binary)\n",
    "    plt.axis('off')\n",
    "    base.save(os.path.join(\"data/png/data{0}.png\".format(a+1)))\n",
    "\n",
    "    #Converting to pdf:\n",
    "    png = Image.open(os.path.join(\"data/png/data{0}.png\".format(a+1)))\n",
    "    png = png.convert(\"RGB\")\n",
    "    png.save(os.path.join(\"data/pdf/data{0}.pdf\".format(a+1)),\"PDF\", resolution = 100.0)\n",
    "\n",
    "\n",
    "print(\"Created 5 data:\")"
   ]
  },
  {
   "cell_type": "code",
   "execution_count": null,
   "metadata": {},
   "outputs": [],
   "source": []
  }
 ],
 "metadata": {
  "kernelspec": {
   "display_name": "Python 3",
   "language": "python",
   "name": "python3"
  },
  "language_info": {
   "codemirror_mode": {
    "name": "ipython",
    "version": 3
   },
   "file_extension": ".py",
   "mimetype": "text/x-python",
   "name": "python",
   "nbconvert_exporter": "python",
   "pygments_lexer": "ipython3",
   "version": "3.7.7"
  }
 },
 "nbformat": 4,
 "nbformat_minor": 4
}
